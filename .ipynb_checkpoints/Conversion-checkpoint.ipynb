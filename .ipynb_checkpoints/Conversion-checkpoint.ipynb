{
 "cells": [
  {
   "cell_type": "code",
   "execution_count": 1,
   "metadata": {},
   "outputs": [],
   "source": [
    "import re"
   ]
  },
  {
   "cell_type": "code",
   "execution_count": 21,
   "metadata": {},
   "outputs": [
    {
     "name": "stdout",
     "output_type": "stream",
     "text": [
      "12.2\n"
     ]
    }
   ],
   "source": [
    "number = r\"\\d+(,\\d{3})*\\.*\\d*\"\n",
    "\n",
    "def money_conversion(money):\n",
    "    value_string =re.search(number, money).group()\n",
    "    value = float(value_string.replace(\",\", \" \"))\n",
    "    return value\n",
    "    \n",
    "\n",
    "print(money_conversion('12.2 million'))"
   ]
  },
  {
   "cell_type": "code",
   "execution_count": null,
   "metadata": {},
   "outputs": [],
   "source": [
    "def parse_value_syntax(string):\n",
    "    value_string =re.search(number, string).group()\n",
    "    value = float(value_string.replace(\",\", \" \"))\n",
    "    return value\n",
    "\n",
    "def money_conversion(money):\n",
    "    \n",
    "    value_syntax"
   ]
  }
 ],
 "metadata": {
  "kernelspec": {
   "display_name": "Python 3",
   "language": "python",
   "name": "python3"
  },
  "language_info": {
   "codemirror_mode": {
    "name": "ipython",
    "version": 3
   },
   "file_extension": ".py",
   "mimetype": "text/x-python",
   "name": "python",
   "nbconvert_exporter": "python",
   "pygments_lexer": "ipython3",
   "version": "3.8.3"
  }
 },
 "nbformat": 4,
 "nbformat_minor": 4
}
